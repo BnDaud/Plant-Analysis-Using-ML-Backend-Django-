{
 "cells": [
  {
   "cell_type": "code",
   "execution_count": 1,
   "id": "cc325938",
   "metadata": {},
   "outputs": [],
   "source": [
    "import joblib"
   ]
  },
  {
   "cell_type": "code",
   "execution_count": 2,
   "id": "48382f54",
   "metadata": {},
   "outputs": [],
   "source": [
    "model = joblib.load(\"model1.1.1.pkl\")\n"
   ]
  },
  {
   "cell_type": "code",
   "execution_count": 8,
   "id": "2f22b012",
   "metadata": {},
   "outputs": [],
   "source": [
    "import pandas as pd\n",
    "\n",
    "data = pd.DataFrame({\"Sunlight (hours/day)\":8.7,\n",
    "                     \"Wind (m/s)\":2.3,\n",
    "                     \"pH\":6.4,\n",
    "                     \"Soil Type\":\"Clay\",\n",
    "                     \"Temperature (°C)\":10.45,\n",
    "                     \"Water (mm/month)\":97.32,\n",
    "                     \"Carbon Dioxide (ppm)\":350,\n",
    "                     \"Minerals (%)\":1.113,} , index = [1])\n",
    "#print(data)\n",
    "pred = model.predict(data)"
   ]
  },
  {
   "cell_type": "code",
   "execution_count": 9,
   "id": "787aa152",
   "metadata": {},
   "outputs": [
    {
     "name": "stdout",
     "output_type": "stream",
     "text": [
      "[3]\n"
     ]
    }
   ],
   "source": [
    "print(pred)"
   ]
  },
  {
   "cell_type": "code",
   "execution_count": null,
   "id": "ba925dec",
   "metadata": {},
   "outputs": [],
   "source": []
  }
 ],
 "metadata": {
  "kernelspec": {
   "display_name": "Python 3 (ipykernel)",
   "language": "python",
   "name": "python3"
  },
  "language_info": {
   "codemirror_mode": {
    "name": "ipython",
    "version": 3
   },
   "file_extension": ".py",
   "mimetype": "text/x-python",
   "name": "python",
   "nbconvert_exporter": "python",
   "pygments_lexer": "ipython3",
   "version": "3.10.9"
  }
 },
 "nbformat": 4,
 "nbformat_minor": 5
}
