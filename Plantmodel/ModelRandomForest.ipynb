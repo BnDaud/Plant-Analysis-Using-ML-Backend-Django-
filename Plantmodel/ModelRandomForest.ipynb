{
 "cells": [
  {
   "cell_type": "code",
   "execution_count": 1,
   "id": "1d300506",
   "metadata": {},
   "outputs": [
    {
     "name": "stdout",
     "output_type": "stream",
     "text": [
      "   Sunlight (hours/day)  Wind (m/s)        pH Soil Type  Temperature (°C)  \\\n",
      "0              9.968287    2.601858  6.440622      Clay         18.832119   \n",
      "1              7.005389    2.409634  6.161043     Loamy         26.265529   \n",
      "2              8.476037    2.963828  6.239556      Clay         10.304735   \n",
      "3              7.035587    2.050289  6.544074     Loamy         29.041636   \n",
      "4              7.244446    3.043450  5.823265     Sandy         33.504069   \n",
      "\n",
      "   Water (mm/month)  Carbon Dioxide (ppm)  Minerals (%) Plant Type  \n",
      "0         51.669142                   400      2.421354      Wheat  \n",
      "1         65.449886                   350      1.113701      Maize  \n",
      "2         75.081722                   400      2.734520      Wheat  \n",
      "3         97.326862                   350      1.234929      Maize  \n",
      "4         49.291020                   350      2.843357    Sorghum  \n"
     ]
    }
   ],
   "source": [
    "import pandas as pd\n",
    "\n",
    "# Load the dataset\n",
    "df = pd.read_excel(\"realistic_plant1.xlsx\")\n",
    "\n",
    "# Display the first few rows of the dataset\n",
    "print(df.head())\n"
   ]
  },
  {
   "cell_type": "code",
   "execution_count": 2,
   "id": "8eb852c9",
   "metadata": {},
   "outputs": [],
   "source": [
    " from sklearn.model_selection import train_test_split\n",
    "from sklearn.preprocessing import StandardScaler, LabelEncoder\n",
    "from sklearn.compose import ColumnTransformer\n",
    "from sklearn.pipeline import Pipeline\n",
    "from sklearn.impute import SimpleImputer\n",
    "from sklearn.preprocessing import OneHotEncoder\n",
    "\n",
    "# Separate features and target\n",
    "X = df.drop(\"Plant Type\", axis=1)\n",
    "y = df[\"Plant Type\"]\n",
    "\n",
    "# Encode the target variable\n",
    "label_encoder = LabelEncoder()\n",
    "y_encoded = label_encoder.fit_transform(y)\n",
    "\n",
    "# Preprocess the features\n",
    "numeric_features = [\"Sunlight (hours/day)\", \"Wind (m/s)\", \"pH\", \"Temperature (°C)\", \"Water (mm/month)\", \"Carbon Dioxide (ppm)\", \"Minerals (%)\"]\n",
    "categorical_features = [\"Soil Type\"]\n",
    "\n",
    "numeric_transformer = Pipeline(steps=[\n",
    "    (\"imputer\", SimpleImputer(strategy=\"mean\")),\n",
    "    (\"scaler\", StandardScaler())\n",
    "])\n",
    "\n",
    "categorical_transformer = Pipeline(steps=[\n",
    "    (\"imputer\", SimpleImputer(strategy=\"constant\", fill_value=\"missing\")),\n",
    "    (\"onehot\", OneHotEncoder(handle_unknown=\"ignore\"))\n",
    "])\n",
    "\n",
    "preprocessor = ColumnTransformer(\n",
    "    transformers=[\n",
    "        (\"num\", numeric_transformer, numeric_features),\n",
    "        (\"cat\", categorical_transformer, categorical_features)\n",
    "    ])\n",
    "\n",
    "# Split the data into training and testing sets\n",
    "X_train, X_test, y_train, y_test = train_test_split(X, y_encoded, test_size=0.2, random_state=42)\n"
   ]
  },
  {
   "cell_type": "code",
   "execution_count": 5,
   "id": "bd637da6",
   "metadata": {},
   "outputs": [
    {
     "name": "stdout",
     "output_type": "stream",
     "text": [
      "Random Forest Classification Report:\n",
      "               precision    recall  f1-score   support\n",
      "\n",
      "       Maize       1.00      1.00      1.00       167\n",
      "        Rice       1.00      1.00      1.00       142\n",
      "     Sorghum       1.00      1.00      1.00       147\n",
      "       Wheat       1.00      1.00      1.00       144\n",
      "\n",
      "    accuracy                           1.00       600\n",
      "   macro avg       1.00      1.00      1.00       600\n",
      "weighted avg       1.00      1.00      1.00       600\n",
      "\n"
     ]
    }
   ],
   "source": [
    "from sklearn.ensemble import RandomForestClassifier\n",
    "from sklearn.pipeline import make_pipeline\n",
    "from sklearn.metrics import classification_report\n",
    "\n",
    "\n",
    "# Create a pipeline with preprocessing and the model\n",
    "rf_model = make_pipeline(preprocessor, RandomForestClassifier(n_estimators=100, random_state=42 , oob_score = True))\n",
    "\n",
    "# Train the model\n",
    "rf_model.fit(X_train, y_train)\n",
    "\n",
    "# Predict and evaluate\n",
    "y_pred_rf = rf_model.predict(X_test)\n",
    "print(\"Random Forest Classification Report:\\n\", classification_report(y_test, y_pred_rf, target_names=label_encoder.classes_))\n"
   ]
  },
  {
   "cell_type": "code",
   "execution_count": 24,
   "id": "6029d1bd",
   "metadata": {},
   "outputs": [
    {
     "name": "stdout",
     "output_type": "stream",
     "text": [
      "      Sunlight (hours/day)  Wind (m/s)        pH Soil Type  Temperature (°C)  \\\n",
      "1801              7.370339    4.972775  6.100117     Sandy         25.176141   \n",
      "1190              7.466210    2.931498  6.016909     Loamy         27.946522   \n",
      "1817              8.448361    3.091506  6.234323      Clay         14.529289   \n",
      "251               8.935256    2.849083  5.726475     Sandy         25.667204   \n",
      "2505              6.983025    2.471128  6.862752     Loamy         22.382993   \n",
      "...                    ...         ...       ...       ...               ...   \n",
      "104               7.327050    1.697424  5.539299      Clay         23.994697   \n",
      "2087              7.795195    2.156474  6.977248     Loamy         27.037781   \n",
      "599               7.254036    2.690757  6.050313     Sandy         29.450042   \n",
      "1756              7.272935    2.207498  5.746366     Sandy         25.947737   \n",
      "1323              7.528889    2.239169  5.907960     Loamy         20.249616   \n",
      "\n",
      "      Water (mm/month)  Carbon Dioxide (ppm)  Minerals (%)  \n",
      "1801         53.152052                   350      1.990644  \n",
      "1190         84.618532                   350      1.852641  \n",
      "1817         54.472308                   400      2.283189  \n",
      "251          40.645565                   350      1.721616  \n",
      "2505         54.865726                   350      1.552993  \n",
      "...                ...                   ...           ...  \n",
      "104         298.181468                   380      3.064332  \n",
      "2087         61.900728                   350      1.670773  \n",
      "599          45.645729                   350      2.750773  \n",
      "1756         57.649842                   350      2.990986  \n",
      "1323         82.105412                   350      1.382955  \n",
      "\n",
      "[600 rows x 8 columns]\n"
     ]
    }
   ],
   "source": [
    "print(X_test)"
   ]
  },
  {
   "cell_type": "code",
   "execution_count": 20,
   "id": "aeaf1388",
   "metadata": {},
   "outputs": [],
   "source": [
    "import joblib"
   ]
  },
  {
   "cell_type": "code",
   "execution_count": 21,
   "id": "f65ae561",
   "metadata": {},
   "outputs": [],
   "source": [
    "version = joblib.__version__"
   ]
  },
  {
   "cell_type": "code",
   "execution_count": 23,
   "id": "4a56623c",
   "metadata": {},
   "outputs": [
    {
     "data": {
      "text/plain": [
       "['model1.1.1.pkl']"
      ]
     },
     "execution_count": 23,
     "metadata": {},
     "output_type": "execute_result"
    }
   ],
   "source": [
    "joblib.dump(rf_model,\"model{version}.pkl\".format(version= version))"
   ]
  },
  {
   "cell_type": "code",
   "execution_count": null,
   "id": "d236fd64",
   "metadata": {},
   "outputs": [],
   "source": []
  }
 ],
 "metadata": {
  "kernelspec": {
   "display_name": "Python 3 (ipykernel)",
   "language": "python",
   "name": "python3"
  },
  "language_info": {
   "codemirror_mode": {
    "name": "ipython",
    "version": 3
   },
   "file_extension": ".py",
   "mimetype": "text/x-python",
   "name": "python",
   "nbconvert_exporter": "python",
   "pygments_lexer": "ipython3",
   "version": "3.10.9"
  }
 },
 "nbformat": 4,
 "nbformat_minor": 5
}
