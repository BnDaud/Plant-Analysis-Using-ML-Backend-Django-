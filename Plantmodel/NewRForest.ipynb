{
 "cells": [
  {
   "cell_type": "code",
   "execution_count": 3,
   "id": "a98beac7",
   "metadata": {},
   "outputs": [
    {
     "name": "stdout",
     "output_type": "stream",
     "text": [
      "['Garden Egg' 'Orange' 'Mango' 'Cucumber' 'Beans']\n",
      "Sample 1: ['Garden Egg' 'Orange' 'Mango' 'Cucumber' 'Beans']\n",
      "Sample 2: ['Mango' 'Cocoyam' 'Groundnut' 'Beans' 'Garden Egg']\n",
      "Sample 3: ['Pepper' 'Okra' 'Yam' 'Maize' 'Beans']\n",
      "Sample 4: ['Yam' 'Banana' 'Sweet Potatoes' 'Sorghum' 'Beans']\n",
      "Sample 5: ['Mango' 'Orange' 'Groundnut' 'Garden Egg' 'Maize']\n"
     ]
    }
   ],
   "source": [
    "import pandas as pd\n",
    "import numpy as np\n",
    "from sklearn.model_selection import train_test_split\n",
    "from sklearn.ensemble import RandomForestClassifier\n",
    "import joblib , os\n",
    "# Sample data dictionary (you can replace this with your actual data)\n",
    "\n",
    "df = pd.read_excel(os.path.join(os.getcwd(), \"Plantmodel\",\"realistic_plant1.xlsx\"))\n",
    "\n",
    "# Encode categorical features and target\n",
    "df_encoded = pd.get_dummies(df, columns=[\"Soil Type\"])\n",
    "X = df_encoded.drop(columns=[\"Plant Type\"])\n",
    "y = df[\"Plant Type\"]\n",
    "\n",
    "#......Split the data......\n",
    "X_train, X_test, y_train, y_test = train_test_split(X, y, test_size=0.2, random_state=42)\n",
    "\n",
    "#......Train the Random Forest model......\n",
    "rf = RandomForestClassifier(n_estimators=100, random_state=42)\n",
    "rf.fit(X_train, y_train)\n",
    "\n",
    "#......Save the Model......\n",
    "version = joblib.__version__\n",
    "joblib.dump(rf,os.path.join(os.getcwd() , \"Plantmodel\",\"model_new{version}.pkl\".format(version= version)))\n",
    "# Get prediction probabilities for the test set\n",
    "\n",
    "if __name__ == \"__main__\":\n",
    "    probs = rf.predict_proba(X_test)\n",
    "\n",
    "    # Get the class labels\n",
    "    class_labels = rf.classes_\n",
    "\n",
    "    # Find the top 5 predictions for each sample in the test set\n",
    "    top_5_predictions = []\n",
    "    str_ = \" \"\n",
    "    for prob in probs:\n",
    "        top_5_indices = np.argsort(prob)[-5:][::-1]\n",
    "        top_5_plants = class_labels[top_5_indices]\n",
    "        top_5_predictions.append(top_5_plants)\n",
    "        str_ +=top_5_plants + \" \"\n",
    "\n",
    "\n",
    "    print(top_5_predictions[0])\n",
    "    # Display the first few samples of top 5 predictions\n",
    "    for i, top_5 in enumerate(top_5_predictions[:5]):\n",
    "        print(f\"Sample {i+1}: {top_5}\")\n"
   ]
  },
  {
   "cell_type": "code",
   "execution_count": null,
   "id": "7d356bba",
   "metadata": {},
   "outputs": [],
   "source": []
  },
  {
   "cell_type": "code",
   "execution_count": null,
   "id": "60bd2fea",
   "metadata": {},
   "outputs": [],
   "source": []
  }
 ],
 "metadata": {
  "kernelspec": {
   "display_name": "Python 3 (ipykernel)",
   "language": "python",
   "name": "python3"
  },
  "language_info": {
   "codemirror_mode": {
    "name": "ipython",
    "version": 3
   },
   "file_extension": ".py",
   "mimetype": "text/x-python",
   "name": "python",
   "nbconvert_exporter": "python",
   "pygments_lexer": "ipython3",
   "version": "3.10.9"
  }
 },
 "nbformat": 4,
 "nbformat_minor": 5
}
