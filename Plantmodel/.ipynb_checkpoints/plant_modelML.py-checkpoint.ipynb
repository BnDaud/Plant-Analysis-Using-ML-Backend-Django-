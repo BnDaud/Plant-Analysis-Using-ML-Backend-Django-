{
 "cells": [
  {
   "cell_type": "code",
   "execution_count": 169,
   "id": "588ec855",
   "metadata": {},
   "outputs": [],
   "source": [
    "import pandas as pd\n"
   ]
  },
  {
   "cell_type": "code",
   "execution_count": 189,
   "id": "7eb2c94a",
   "metadata": {},
   "outputs": [],
   "source": [
    "data = pd.read_excel(\"plantdata.xlsx\")\n",
    "#print(data.head(5))"
   ]
  },
  {
   "cell_type": "code",
   "execution_count": 171,
   "id": "e6ed8222",
   "metadata": {},
   "outputs": [],
   "source": [
    "total_data = data.iloc[:,:-1]\n",
    "\n",
    "total_target = data.iloc[:,-1:]\n",
    "#print(total_target)"
   ]
  },
  {
   "cell_type": "code",
   "execution_count": 172,
   "id": "5f9f2304",
   "metadata": {},
   "outputs": [],
   "source": [
    "features = total_data.iloc[:2500,:]\n",
    "target = total_target.iloc[:2500,:]\n",
    "tst_target = total_target.iloc[2500:,:]\n",
    "\n",
    "#print(target)"
   ]
  },
  {
   "cell_type": "code",
   "execution_count": 173,
   "id": "4385a8ff",
   "metadata": {},
   "outputs": [],
   "source": [
    "#print(list(target[\"Plant that survives\"]))"
   ]
  },
  {
   "cell_type": "code",
   "execution_count": 174,
   "id": "506206b7",
   "metadata": {},
   "outputs": [],
   "source": [
    "#total = {}\n",
    "#for i in list(target[\"Plant that survives\"]):\n",
    "#    if i in list(total.keys()):\n",
    "#        continue\n",
    "#    else:\n",
    "#        total[i] = list(target[\"Plant that survives\"]).count(i)\n",
    "        \n",
    "\n",
    "#print(total , \"total target = \",len(total.keys()))"
   ]
  },
  {
   "cell_type": "code",
   "execution_count": 175,
   "id": "dfb5e0cd",
   "metadata": {},
   "outputs": [],
   "source": [
    "from sklearn.svm import SVC\n",
    "from sklearn.preprocessing import StandardScaler as SS\n",
    "import numpy as np"
   ]
  },
  {
   "cell_type": "code",
   "execution_count": 182,
   "id": "6dd1309c",
   "metadata": {},
   "outputs": [
    {
     "name": "stdout",
     "output_type": "stream",
     "text": [
      "Length train:  [ 7  4 11 ... 14 25 20] Length test :  [ 5 18 24 28 18 11 10 13  9  6 12 22 27 29 10  7 25 21  1 25  2 22 17 24\n",
      " 10 16 13 21 18 14  9  1 14  3  6 14  1 16 11 28  9 26 27  6 16  3  7 21\n",
      " 12  6 14 10 26 19 23  4  0  8  7 14 19  5  4  2  3 15 11  8  8 19  2 11\n",
      " 12 25  4 25 25 29  0  7 21 24  8 14  4 22 24  3 28 16 19 16 17 28 25  3\n",
      " 27 22  7 19 20  5 10 14  9 28 10 26  3 23  4  0 13 13 18  7 25 28 26  4\n",
      " 21 17  3 14 25 12  7 12 13  4 12 27 26 11 19  5 26 24 19  5 11 29  1 19\n",
      " 11  8 10 12 19 22 23 28  3 18 23 21  6  5 27 16 25 18  9 24  7 22 18 10\n",
      "  5  7 20 27 13 10  0 28  8 13  0 18 23 11 28 15 12  9 13 16 18 22 23 23\n",
      " 14 17 12 25 24 13  6  6 18  6 24 11 23  4 20 18 23 21 18 20 18  9  7 27\n",
      " 17  9 25 17 28  2 10  2  7  4 25 13  4  9 23 24 17 25 24 16  4 22 10 11\n",
      " 12 28 28 11 28 21  3 18  5 17 26 17 23 13  3 20 27  5 17  0 16  5 15 10\n",
      "  6 23  3 24  7  6 17 28 15 18 27 21  0 16 18 17 10 24  8 17 10  1 23 11\n",
      " 18  5  7 28 27 23 16 26 28  7 21  8 10 28 27  7 21 18  5  5  5 21 26 18\n",
      " 10  9  9 22  2 20  4 18 13 12 27 13 27 11  6 15 15 10  7 20 14 17  5 19\n",
      "  3 18  8  2 23  4  6  6  1  2  4 20 18 22  9 13  6 27 19  9  6 26  7 10\n",
      " 29 12 23 15  1  1  3 28  2 23 25  0  8  0 23 11 26 15  1 26 18  5 26 21\n",
      " 10 29 22 10 11 20  2  2 12  5 25  5  9 20  6 19  2 23 27  8  9  5 16 20\n",
      "  2 14 15  3 27  1 14 15  9 15 19 28 21  6 15  3  8  1 25 18  8  7  7  4\n",
      " 21 19 14 11  6 23  0 26 17 29 15  3 16 19 26 17 21 18 20 21 21 14 28 13\n",
      "  2 18 21 11 12 14 29 11 15  9 13 29 24 10 23 17 11 11 19 18 16 16 20 21\n",
      " 10 25  0 15  6  4  1  5 20 20 28 15 28 17 20  5 21 22 23 19]\n"
     ]
    }
   ],
   "source": [
    "from sklearn.preprocessing import OneHotEncoder as end\n",
    "from sklearn.preprocessing import LabelEncoder as LB\n",
    "labels = np.array(target[\"Plant that survives\"]).reshape(-1 ,1)\n",
    "lb = LB()\n",
    "#lb = end(sparse_output =False)\n",
    "trn_target = lb.fit_transform( target[\"Plant that survives\"])\n",
    "#print( (target[\"Plant that survives\"]))\n",
    "\n",
    "test_label = lb.fit_transform(tst_target[\"Plant that survives\"])\n",
    "print(\"Length train: \", trn_target ,  \"Length test : \" ,  test_label)"
   ]
  },
  {
   "cell_type": "code",
   "execution_count": 178,
   "id": "dfe4b774",
   "metadata": {},
   "outputs": [],
   "source": [
    "scaler = SS()\n",
    "trn_features = scaler.fit_transform(features)\n",
    "test = scaler.fit_transform(total_data.iloc[2500:,:])\n",
    "#print(standard_features)\n",
    "\n",
    "\n"
   ]
  },
  {
   "cell_type": "code",
   "execution_count": 202,
   "id": "2dae8b44",
   "metadata": {},
   "outputs": [],
   "source": [
    "from sklearn.metrics import accuracy_score as Acc\n",
    "svc = SVC(kernel = \"rbf\" , random_state = 0 , C= 60 , probability = True ,gamma = )\n",
    "model = svc.fit(trn_features , label_target)\n",
    "\n",
    "\n",
    "pred = model.predict(test)\n",
    "\n",
    "acc = Acc(test_label , pred)\n",
    "print(acc)"
   ]
  },
  {
   "cell_type": "code",
   "execution_count": 203,
   "id": "4b3f0d17",
   "metadata": {},
   "outputs": [],
   "source": []
  },
  {
   "cell_type": "code",
   "execution_count": 204,
   "id": "66df94d7",
   "metadata": {},
   "outputs": [],
   "source": []
  },
  {
   "cell_type": "code",
   "execution_count": 205,
   "id": "fe39ce18",
   "metadata": {},
   "outputs": [
    {
     "name": "stdout",
     "output_type": "stream",
     "text": [
      "0.032\n"
     ]
    }
   ],
   "source": []
  },
  {
   "cell_type": "code",
   "execution_count": null,
   "id": "f49d1e03",
   "metadata": {},
   "outputs": [],
   "source": []
  },
  {
   "cell_type": "code",
   "execution_count": null,
   "id": "c3393c04",
   "metadata": {},
   "outputs": [],
   "source": []
  },
  {
   "cell_type": "code",
   "execution_count": null,
   "id": "68f5bce7",
   "metadata": {},
   "outputs": [],
   "source": []
  },
  {
   "cell_type": "raw",
   "id": "3e6b0bb8",
   "metadata": {},
   "source": []
  },
  {
   "cell_type": "code",
   "execution_count": null,
   "id": "75268c82",
   "metadata": {},
   "outputs": [],
   "source": []
  },
  {
   "cell_type": "code",
   "execution_count": null,
   "id": "2fb4cb49",
   "metadata": {},
   "outputs": [],
   "source": []
  }
 ],
 "metadata": {
  "kernelspec": {
   "display_name": "Python 3 (ipykernel)",
   "language": "python",
   "name": "python3"
  },
  "language_info": {
   "codemirror_mode": {
    "name": "ipython",
    "version": 3
   },
   "file_extension": ".py",
   "mimetype": "text/x-python",
   "name": "python",
   "nbconvert_exporter": "python",
   "pygments_lexer": "ipython3",
   "version": "3.10.9"
  }
 },
 "nbformat": 4,
 "nbformat_minor": 5
}
