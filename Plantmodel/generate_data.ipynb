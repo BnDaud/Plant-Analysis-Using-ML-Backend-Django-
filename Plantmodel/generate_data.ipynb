{
 "cells": [
  {
   "cell_type": "code",
   "execution_count": 1,
   "id": "654ecb39",
   "metadata": {},
   "outputs": [
    {
     "name": "stdout",
     "output_type": "stream",
     "text": [
      "Dataset generated and saved to 'realistic_plant_data.xlsx'\n"
     ]
    }
   ],
   "source": [
    "import pandas as pd\n",
    "import numpy as np\n",
    "\n",
    "# List of plant types and their respective data ranges\n",
    "plant_data = {\n",
    "    \"Maize\": {\n",
    "        \"Sunlight (hours/day)\": (6, 8),\n",
    "        \"Wind (m/s)\": (2, 3),\n",
    "        \"pH\": (5.5, 7),\n",
    "        \"Soil Type\": \"Loamy\",\n",
    "        \"Temperature (°C)\": (18, 30),\n",
    "        \"Water (mm/month)\": (50, 100),\n",
    "        \"Carbon Dioxide (ppm)\": 350,\n",
    "        \"Minerals (%)\": (1, 2)\n",
    "    },\n",
    "    \"Wheat\": {\n",
    "        \"Sunlight (hours/day)\": (8, 10),\n",
    "        \"Wind (m/s)\": (2, 4),\n",
    "        \"pH\": (6, 7),\n",
    "        \"Soil Type\": \"Clay\",\n",
    "        \"Temperature (°C)\": (10, 25),\n",
    "        \"Water (mm/month)\": (50, 90),\n",
    "        \"Carbon Dioxide (ppm)\": 400,\n",
    "        \"Minerals (%)\": (2, 3)\n",
    "    },\n",
    "    # Add more plants as needed\n",
    "    \"Rice\": {\n",
    "        \"Sunlight (hours/day)\": (6, 8),\n",
    "        \"Wind (m/s)\": (1, 2),\n",
    "        \"pH\": (5.5, 6.5),\n",
    "        \"Soil Type\": \"Clay\",\n",
    "        \"Temperature (°C)\": (20, 30),\n",
    "        \"Water (mm/month)\": (200, 300),\n",
    "        \"Carbon Dioxide (ppm)\": 380,\n",
    "        \"Minerals (%)\": (3, 4)\n",
    "    },\n",
    "    \"Sorghum\": {\n",
    "        \"Sunlight (hours/day)\": (7, 9),\n",
    "        \"Wind (m/s)\": (2, 5),\n",
    "        \"pH\": (5.5, 7),\n",
    "        \"Soil Type\": \"Sandy\",\n",
    "        \"Temperature (°C)\": (25, 35),\n",
    "        \"Water (mm/month)\": (40, 60),\n",
    "        \"Carbon Dioxide (ppm)\": 350,\n",
    "        \"Minerals (%)\": (1, 3)\n",
    "    },\n",
    "    # Continue for other plants...\n",
    "}\n",
    "\n",
    "# Generate data\n",
    "data = []\n",
    "num_rows = 3000\n",
    "\n",
    "for i in range(num_rows):\n",
    "    plant_type = np.random.choice(list(plant_data.keys()))\n",
    "    plant_info = plant_data[plant_type]\n",
    "    \n",
    "    row = {\n",
    "        \"Sunlight (hours/day)\": np.random.uniform(*plant_info[\"Sunlight (hours/day)\"]),\n",
    "        \"Wind (m/s)\": np.random.uniform(*plant_info[\"Wind (m/s)\"]),\n",
    "        \"pH\": np.random.uniform(*plant_info[\"pH\"]),\n",
    "        \"Soil Type\": plant_info[\"Soil Type\"],\n",
    "        \"Temperature (°C)\": np.random.uniform(*plant_info[\"Temperature (°C)\"]),\n",
    "        \"Water (mm/month)\": np.random.uniform(*plant_info[\"Water (mm/month)\"]),\n",
    "        \"Carbon Dioxide (ppm)\": plant_info[\"Carbon Dioxide (ppm)\"],\n",
    "        \"Minerals (%)\": np.random.uniform(*plant_info[\"Minerals (%)\"]),\n",
    "        \"Plant Type\": plant_type\n",
    "    }\n",
    "    \n",
    "    data.append(row)\n",
    "\n",
    "# Create DataFrame\n",
    "df = pd.DataFrame(data)\n",
    "\n",
    "# Save to Excel file\n",
    "df.to_excel(\"realistic_plant1.xlsx\", index=False)\n",
    "\n",
    "print(\"Dataset generated and saved to 'realistic_plant_data.xlsx'\")\n"
   ]
  },
  {
   "cell_type": "code",
   "execution_count": null,
   "id": "0d36e394",
   "metadata": {},
   "outputs": [],
   "source": []
  }
 ],
 "metadata": {
  "kernelspec": {
   "display_name": "Python 3 (ipykernel)",
   "language": "python",
   "name": "python3"
  },
  "language_info": {
   "codemirror_mode": {
    "name": "ipython",
    "version": 3
   },
   "file_extension": ".py",
   "mimetype": "text/x-python",
   "name": "python",
   "nbconvert_exporter": "python",
   "pygments_lexer": "ipython3",
   "version": "3.10.9"
  }
 },
 "nbformat": 4,
 "nbformat_minor": 5
}
